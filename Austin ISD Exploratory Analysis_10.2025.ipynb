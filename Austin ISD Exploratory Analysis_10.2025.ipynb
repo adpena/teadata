{
 "cells": [
  {
   "cell_type": "code",
   "execution_count": 5,
   "id": "de1e4a8a-c112-4a14-8db6-a72493595dc8",
   "metadata": {},
   "outputs": [
    {
     "name": "stdout",
     "output_type": "stream",
     "text": [
      "Loaded 1207 districts and 9739 campuses\n"
     ]
    }
   ],
   "source": [
    "from teadata import DataEngine\n",
    "from pprint import pprint\n",
    "\n",
    "repo = DataEngine.from_snapshot(search=True)\n",
    "\n",
    "# Inspect how many objects are loaded\n",
    "print(f\"Loaded {len(repo.districts)} districts and {len(repo.campuses)} campuses\")"
   ]
  },
  {
   "cell_type": "code",
   "execution_count": 8,
   "id": "92acd2fa-a536-4805-8140-aca6a8feb090",
   "metadata": {},
   "outputs": [
    {
     "name": "stdout",
     "output_type": "stream",
     "text": [
      "Example district: District(id=UUID('9c7b0d7b-6d8c-46ce-866b-2e742e8781c7'), name='Austin ISD', enrollment=0, district_number=\"'227901\", aea=None, rating='C')\n",
      "\n",
      "Canonical 2025 overall accountability rating: C\n",
      "Enriched 2025 overall accountability rating: C\n",
      "\n",
      "Austin ISD has 127 total campuses.\n",
      "\n",
      "Austin ISD campus ratings: [('C', 27), ('B', 25), ('F', 23), ('A', 22), ('D', 18), ('Not Rated', 7), ('Not Rated: Minimum Size rules', 1)]\n"
     ]
    }
   ],
   "source": [
    "austin = (repo >> (\"district\", \"Austin ISD\")).first()\n",
    "print(\"Example district:\", austin)\n",
    "\n",
    "# Access enriched attributes (dot-syntax works if enrichment logic is wired correctly)\n",
    "print(\"\\nCanonical 2025 overall accountability rating:\", austin.rating)\n",
    "print(\n",
    "    \"Enriched 2025 overall accountability rating:\",\n",
    "    getattr(austin, \"overall_rating_2025\", None),\n",
    ")\n",
    "\n",
    "# Explore campuses inside the district\n",
    "print(f\"\\nAustin ISD has {len(austin.campuses)} total campuses.\")\n",
    "print(f\"\\nAustin ISD campus ratings:\", austin.campuses.value_counts(\"rating\"))"
   ]
  },
  {
   "cell_type": "code",
   "execution_count": 15,
   "id": "1e9e0caf-5cb9-466f-b7c5-fcb0a432458f",
   "metadata": {},
   "outputs": [
    {
     "name": "stdout",
     "output_type": "stream",
     "text": [
      "Austin ISD: 38 charter campuses inside boundary\n",
      "\n",
      "1)\t - AUSTIN ACHIEVE FERGUSON, '227825006, AUSTIN ACHIEVE PUBLIC SCHOOLS (type: OPEN ENROLLMENT CHARTER, enrollment: 73, campus rating: Not Rated: Minimum Size rules, charter network rating: C)\n",
      "\n",
      "2)\t - AUSTIN ACHIEVE H S, '227825004, AUSTIN ACHIEVE PUBLIC SCHOOLS (type: OPEN ENROLLMENT CHARTER, enrollment: 581, campus rating: B, charter network rating: C)\n",
      "\n",
      "3)\t - AUSTIN ACHIEVE MIDDLE, '227825001, AUSTIN ACHIEVE PUBLIC SCHOOLS (type: OPEN ENROLLMENT CHARTER, enrollment: 669, campus rating: D, charter network rating: C)\n",
      "\n",
      "4)\t - AUSTIN ACHIEVE NORTHEAST EL, '227825003, AUSTIN ACHIEVE PUBLIC SCHOOLS (type: OPEN ENROLLMENT CHARTER, enrollment: 839, campus rating: D, charter network rating: C)\n",
      "\n",
      "5)\t - BASIS AUSTIN, '015834004, BASIS TEXAS (type: OPEN ENROLLMENT CHARTER, enrollment: 155, campus rating: A, charter network rating: A)\n",
      "\n",
      "6)\t - BASIS AUSTIN PRI, '015834102, BASIS TEXAS (type: OPEN ENROLLMENT CHARTER, enrollment: 243, campus rating: Not Rated: Minimum Size rules, charter network rating: A)\n",
      "\n",
      "7)\t - CEDARS ACADEMY NEXT GENERATION H S AT HIGHLAND, '227817001, CEDARS INTERNATIONAL ACADEMY (type: OPEN ENROLLMENT CHARTER, enrollment: 116, campus rating: A, charter network rating: C)\n",
      "\n",
      "8)\t - CEDARS INTERNATIONAL ACADEMY, '227817101, CEDARS INTERNATIONAL ACADEMY (type: OPEN ENROLLMENT CHARTER, enrollment: 408, campus rating: C, charter network rating: C)\n",
      "\n",
      "9)\t - DIBOLL, '227827007, THE EXCEL CENTER (FOR ADULTS) (type: OPEN ENROLLMENT CHARTER, enrollment: 75, campus rating: Not Rated: Minimum Size rules, charter network rating: Not Rated)\n",
      "\n",
      "10)\t - HARMONY SCHOOL OF EXCELLENCE - AUSTIN, '227816101, HARMONY PUBLIC SCHOOLS - CENTRAL TEXAS (type: OPEN ENROLLMENT CHARTER, enrollment: 497, campus rating: B, charter network rating: B)\n",
      "\n",
      "11)\t - HARMONY SCHOOL OF INNOVATION - AUSTIN, '227816005, HARMONY PUBLIC SCHOOLS - CENTRAL TEXAS (type: OPEN ENROLLMENT CHARTER, enrollment: 374, campus rating: A, charter network rating: B)\n",
      "\n",
      "12)\t - HARMONY SCHOOL OF SCIENCE - AUSTIN, '227816003, HARMONY PUBLIC SCHOOLS - CENTRAL TEXAS (type: OPEN ENROLLMENT CHARTER, enrollment: 486, campus rating: A, charter network rating: B)\n",
      "\n",
      "13)\t - HARMONY SCIENCE ACADEMY - AUSTIN, '227816001, HARMONY PUBLIC SCHOOLS - CENTRAL TEXAS (type: OPEN ENROLLMENT CHARTER, enrollment: 754, campus rating: F, charter network rating: B)\n",
      "\n",
      "14)\t - IDEA BLUFF SPRINGS ACADEMY, '108807137, IDEA PUBLIC SCHOOLS (type: OPEN ENROLLMENT CHARTER, enrollment: 521, campus rating: D, charter network rating: B)\n",
      "\n",
      "15)\t - IDEA BLUFF SPRINGS COLLEGE PREPARATORY, '108807037, IDEA PUBLIC SCHOOLS (type: OPEN ENROLLMENT CHARTER, enrollment: 689, campus rating: B, charter network rating: B)\n",
      "\n",
      "16)\t - IDEA HEALTH PROFESSIONS ACADEMY, '108807191, IDEA PUBLIC SCHOOLS (type: OPEN ENROLLMENT CHARTER, enrollment: 294, campus rating: B, charter network rating: B)\n",
      "\n",
      "17)\t - IDEA HEALTH PROFESSIONS COLLEGE PREPARATORY, '108807091, IDEA PUBLIC SCHOOLS (type: OPEN ENROLLMENT CHARTER, enrollment: 376, campus rating: B, charter network rating: B)\n",
      "\n",
      "18)\t - IDEA RUNDBERG ACADEMY, '108807136, IDEA PUBLIC SCHOOLS (type: OPEN ENROLLMENT CHARTER, enrollment: 694, campus rating: C, charter network rating: B)\n",
      "\n",
      "19)\t - IDEA RUNDBERG COLLEGE PREPARATORY, '108807036, IDEA PUBLIC SCHOOLS (type: OPEN ENROLLMENT CHARTER, enrollment: 790, campus rating: A, charter network rating: B)\n",
      "\n",
      "20)\t - KI CHARTER - AUSTIN, '105803007, KI CHARTER (type: OPEN ENROLLMENT CHARTER, enrollment: -1, campus rating: Not Rated: Minimum Size rules, charter network rating: Not Rated)\n",
      "\n",
      "21)\t - KIPP AUSTIN BEACON PREP, '227820043, KIPP TEXAS PUBLIC SCHOOLS (type: OPEN ENROLLMENT CHARTER, enrollment: 393, campus rating: B, charter network rating: B)\n",
      "\n",
      "22)\t - KIPP AUSTIN BRAVE, '227820002, KIPP TEXAS PUBLIC SCHOOLS (type: OPEN ENROLLMENT CHARTER, enrollment: 490, campus rating: B, charter network rating: B)\n",
      "\n",
      "23)\t - KIPP AUSTIN COLLEGE PREP, '227820041, KIPP TEXAS PUBLIC SCHOOLS (type: OPEN ENROLLMENT CHARTER, enrollment: 465, campus rating: B, charter network rating: B)\n",
      "\n",
      "24)\t - KIPP AUSTIN COLLEGIATE, '227820001, KIPP TEXAS PUBLIC SCHOOLS (type: OPEN ENROLLMENT CHARTER, enrollment: 847, campus rating: B, charter network rating: B)\n",
      "\n",
      "25)\t - KIPP AUSTIN COMUNIDAD, '227820101, KIPP TEXAS PUBLIC SCHOOLS (type: OPEN ENROLLMENT CHARTER, enrollment: 513, campus rating: C, charter network rating: B)\n",
      "\n",
      "26)\t - KIPP AUSTIN OBRAS, '227820103, KIPP TEXAS PUBLIC SCHOOLS (type: OPEN ENROLLMENT CHARTER, enrollment: 373, campus rating: C, charter network rating: B)\n",
      "\n",
      "27)\t - MAGNOLIA MONTESSORI FOR ALL, '227826101, MONTESSORI FOR ALL (type: OPEN ENROLLMENT CHARTER, enrollment: 470, campus rating: B, charter network rating: B)\n",
      "\n",
      "28)\t - PREMIER HIGH SCHOOL-AUSTIN SOUTH CAMPUS, '072801113, PREMIER HIGH SCHOOLS (type: OPEN ENROLLMENT CHARTER, enrollment: 143, campus rating: A, charter network rating: B)\n",
      "\n",
      "29)\t - TEXANS CAN ACADEMY - AUSTIN, '057804006, TEXANS CAN ACADEMIES (type: OPEN ENROLLMENT CHARTER, enrollment: 168, campus rating: C, charter network rating: C)\n",
      "\n",
      "30)\t - TEXAS PREPARATORY SCHOOL - AUSTIN CAMPUS, '105802101, Unknown District (type: OPEN ENROLLMENT CHARTER, enrollment: 59, campus rating: F, charter network rating: )\n",
      "\n",
      "31)\t - THE EAST AUSTIN COLLEGE PREP AT MLK, '227824002, VALERE PUBLIC SCHOOLS (type: OPEN ENROLLMENT CHARTER, enrollment: 169, campus rating: D, charter network rating: D)\n",
      "\n",
      "32)\t - THE EAST AUSTIN COLLEGE PREP AT SOUTHWEST KEY, '227824001, VALERE PUBLIC SCHOOLS (type: OPEN ENROLLMENT CHARTER, enrollment: 159, campus rating: F, charter network rating: D)\n",
      "\n",
      "33)\t - THE EXCEL CENTER FOR ADULTS - SOUTH AUSTIN, '227827003, THE EXCEL CENTER (FOR ADULTS) (type: OPEN ENROLLMENT CHARTER, enrollment: 114, campus rating: Not Rated: Minimum Size rules, charter network rating: Not Rated)\n",
      "\n",
      "34)\t - VALOR SOUTH AUSTIN, '227829001, VALOR EDUCATION (type: OPEN ENROLLMENT CHARTER, enrollment: 1364, campus rating: B, charter network rating: B)\n",
      "\n",
      "35)\t - WAYSIDE ALTAMIRA ACADEMY, '227803103, WAYSIDE SCHOOLS (type: OPEN ENROLLMENT CHARTER, enrollment: 354, campus rating: D, charter network rating: C)\n",
      "\n",
      "36)\t - WAYSIDE EDEN PARK ACADEMY, '227803101, WAYSIDE SCHOOLS (type: OPEN ENROLLMENT CHARTER, enrollment: 235, campus rating: B, charter network rating: C)\n",
      "\n",
      "37)\t - WAYSIDE REAL LEARNING ACADEMY, '227803102, WAYSIDE SCHOOLS (type: OPEN ENROLLMENT CHARTER, enrollment: 644, campus rating: C, charter network rating: C)\n",
      "\n",
      "38)\t - WAYSIDE SCI-TECH MIDDLE AND H S, '227803001, WAYSIDE SCHOOLS (type: OPEN ENROLLMENT CHARTER, enrollment: 554, campus rating: C, charter network rating: C)\n"
     ]
    }
   ],
   "source": [
    "# 3) Get charter campuses physically inside that district’s boundary\n",
    "charters = repo.charter_campuses_within(austin)\n",
    "\n",
    "# 4) Work with the results\n",
    "print(f\"{austin.name}: {len(charters)} charter campuses inside boundary\")\n",
    "\n",
    "counter = 1\n",
    "\n",
    "for c in sorted(charters, key=lambda x: x.name):\n",
    "    print(\n",
    "        f\"\\n{counter})\\t - {c.name}, {c.campus_number}, {c.district.name} (type: {c.charter_type}, enrollment: {c.enrollment}, campus rating: {c.rating}, charter network rating: {c.district.rating})\"\n",
    "    )\n",
    "    counter += 1"
   ]
  },
  {
   "cell_type": "code",
   "execution_count": null,
   "id": "c48d9f92-8f4f-45e0-add0-0f282e96c51b",
   "metadata": {},
   "outputs": [],
   "source": []
  }
 ],
 "metadata": {
  "kernelspec": {
   "display_name": "Python 3 (ipykernel)",
   "language": "python",
   "name": "python3"
  },
  "language_info": {
   "codemirror_mode": {
    "name": "ipython",
    "version": 3
   },
   "file_extension": ".py",
   "mimetype": "text/x-python",
   "name": "python",
   "nbconvert_exporter": "python",
   "pygments_lexer": "ipython3",
   "version": "3.12.4"
  }
 },
 "nbformat": 4,
 "nbformat_minor": 5
}
