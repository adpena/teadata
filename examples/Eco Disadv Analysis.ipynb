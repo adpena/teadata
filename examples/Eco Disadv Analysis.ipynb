{
 "cells": [
  {
   "cell_type": "code",
   "execution_count": null,
   "id": "6377e3ab-f5d6-4753-9686-c2781617fe32",
   "metadata": {},
   "outputs": [],
   "source": [
    "from teadata import DataEngine\n",
    "import pandas as pd\n",
    "\n",
    "repo = DataEngine.from_snapshot(search=True)  # auto-discovers the packaged snapshot\n"
   ]
  },
  {
   "cell_type": "code",
   "execution_count": null,
   "id": "42f10f97-ac69-4758-b114-c7e15f1ac343",
   "metadata": {},
   "outputs": [],
   "source": [
    "campus_df = repo.campuses.to_df()\n",
    "district_df = repo.districts.to_df()[[\"id\", \"name\", \"district_number\"]]\n",
    "\n",
    "campus_df = (\n",
    "    campus_df\n",
    "    .merge(\n",
    "        district_df.rename(columns={\n",
    "            \"id\": \"district_id_merge\",\n",
    "            \"name\": \"district_name\"\n",
    "        }),\n",
    "        left_on=\"district_id\",\n",
    "        right_on=\"district_id_merge\",\n",
    "        how=\"left\",\n",
    "    )\n",
    "    .drop(columns=[\"district_id_merge\"])\n",
    ")\n"
   ]
  },
  {
   "cell_type": "code",
   "execution_count": null,
   "id": "23f44df4-df2f-4a27-9ea2-21b00b9ee110",
   "metadata": {},
   "outputs": [],
   "source": [
    "# Friendly renames for reporting\n",
    "campus_df = campus_df.rename(columns={\n",
    "    \"name\": \"campus_name\",\n",
    "    \"campus_number\": \"campus_number\",\n",
    "    \"overall_rating_2025\": \"overall_rating_2025\",\n",
    "    \"grade_range\": \"grade_levels_served\",\n",
    "    \"school_type\": \"school_type\",\n",
    "    \"campus_2024_student_enrollment_econ_disadv_percent\": \"pct_econ_disadv\",\n",
    "    \"campus_2024_student_enrollment_special_ed_percent\": \"pct_special_ed\",\n",
    "    \"campus_2024_student_membership_2022_23_attrition_all_students_percent\": \"pct_attrition\",\n",
    "    \"campus_2024_student_membership_2023_mobility_all_students_percent\": \"pct_mobility\",\n",
    "    \"campus_2024_student_enrollment_at_risk_percent\": \"pct_at_risk\",\n",
    "    \"campus_2024_student_enrollment_el_percent\": \"pct_emergent_bilingual\",\n",
    "    \"campus_2024_staff_teacher_beginning_full_time_equiv_percent\": \"pct_beginning_teachers\",\n",
    "})\n",
    "\n",
    "# Derive district/charter label\n",
    "campus_df[\"governance_type\"] = campus_df[\"is_charter\"].map({True: \"Charter\", False: \"District\"})\n",
    "\n",
    "# Optional: derive county from the six-digit district number (first three digits are the county code)\n",
    "campus_df[\"county_code\"] = campus_df[\"district_number\"].str.replace(\"'\", \"\", regex=False).str[:3]\n",
    "# campus_df[\"county_name\"] = campus_df[\"county_code\"].map(COUNTY_CODE_TO_NAME)  # supply your TEA county lookup dict\n",
    "\n",
    "numeric_cols = [\n",
    "    \"pct_econ_disadv\", \"pct_special_ed\", \"pct_attrition\", \"pct_mobility\",\n",
    "    \"pct_at_risk\", \"pct_emergent_bilingual\", \"pct_beginning_teachers\"\n",
    "]\n",
    "campus_df[numeric_cols] = campus_df[numeric_cols].apply(pd.to_numeric, errors=\"coerce\")\n"
   ]
  },
  {
   "cell_type": "code",
   "execution_count": null,
   "id": "d7b525e2-4e22-4b93-825a-abe4e342a0c6",
   "metadata": {},
   "outputs": [],
   "source": [
    "base_columns = [\n",
    "    \"campus_number\", \"campus_name\", \"district_name\", \"county_code\",\n",
    "    \"governance_type\", \"grade_levels_served\", \"school_type\",\n",
    "    \"overall_rating_2025\", \"pct_econ_disadv\", \"pct_special_ed\", \"pct_attrition\",\n",
    "    \"pct_mobility\", \"pct_at_risk\", \"pct_emergent_bilingual\",\n",
    "    \"pct_beginning_teachers\"\n",
    "]\n",
    "\n",
    "district_campuses = campus_df.loc[campus_df[\"governance_type\"] == \"District\", base_columns].copy()\n",
    "charter_campuses = campus_df.loc[campus_df[\"governance_type\"] == \"Charter\", base_columns].copy()\n"
   ]
  }
 ],
 "metadata": {
  "kernelspec": {
   "display_name": "Python 3 (ipykernel)",
   "language": "python",
   "name": "python3"
  },
  "language_info": {
   "codemirror_mode": {
    "name": "ipython",
    "version": 3
   },
   "file_extension": ".py",
   "mimetype": "text/x-python",
   "name": "python",
   "nbconvert_exporter": "python",
   "pygments_lexer": "ipython3",
   "version": "3.12.4"
  }
 },
 "nbformat": 4,
 "nbformat_minor": 5
}
