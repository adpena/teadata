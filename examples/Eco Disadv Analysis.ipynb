{
 "cells": [
  {
   "cell_type": "code",
   "execution_count": 1,
   "id": "6377e3ab-f5d6-4753-9686-c2781617fe32",
   "metadata": {},
   "outputs": [],
   "source": [
    "from teadata import DataEngine\n",
    "import pandas as pd\n",
    "\n",
    "repo = DataEngine.from_snapshot(search=True)  # auto-discovers the packaged snapshot\n"
   ]
  },
  {
   "cell_type": "code",
   "execution_count": 2,
   "id": "42f10f97-ac69-4758-b114-c7e15f1ac343",
   "metadata": {},
   "outputs": [],
   "source": [
    "campus_df = repo.campuses.to_df()\n",
    "district_df = repo.districts.to_df()[[\"id\", \"name\", \"district_number\"]]\n",
    "\n",
    "campus_df = (\n",
    "    campus_df\n",
    "    .merge(\n",
    "        district_df.rename(columns={\n",
    "            \"id\": \"district_id_merge\",\n",
    "            \"name\": \"district_name\"\n",
    "        }),\n",
    "        left_on=\"district_id\",\n",
    "        right_on=\"district_id_merge\",\n",
    "        how=\"left\",\n",
    "    )\n",
    "    .drop(columns=[\"district_id_merge\"])\n",
    ")\n"
   ]
  },
  {
   "cell_type": "code",
   "execution_count": 3,
   "id": "23f44df4-df2f-4a27-9ea2-21b00b9ee110",
   "metadata": {},
   "outputs": [
    {
     "ename": "KeyError",
     "evalue": "'district_number'",
     "output_type": "error",
     "traceback": [
      "\u001b[0;31m---------------------------------------------------------------------------\u001b[0m",
      "\u001b[0;31mKeyError\u001b[0m                                  Traceback (most recent call last)",
      "File \u001b[0;32m/Library/Frameworks/Python.framework/Versions/3.12/lib/python3.12/site-packages/pandas/core/indexes/base.py:3812\u001b[0m, in \u001b[0;36mIndex.get_loc\u001b[0;34m(self, key)\u001b[0m\n\u001b[1;32m   3811\u001b[0m \u001b[38;5;28;01mtry\u001b[39;00m:\n\u001b[0;32m-> 3812\u001b[0m     \u001b[38;5;28;01mreturn\u001b[39;00m \u001b[38;5;28;43mself\u001b[39;49m\u001b[38;5;241;43m.\u001b[39;49m\u001b[43m_engine\u001b[49m\u001b[38;5;241;43m.\u001b[39;49m\u001b[43mget_loc\u001b[49m\u001b[43m(\u001b[49m\u001b[43mcasted_key\u001b[49m\u001b[43m)\u001b[49m\n\u001b[1;32m   3813\u001b[0m \u001b[38;5;28;01mexcept\u001b[39;00m \u001b[38;5;167;01mKeyError\u001b[39;00m \u001b[38;5;28;01mas\u001b[39;00m err:\n",
      "File \u001b[0;32mpandas/_libs/index.pyx:167\u001b[0m, in \u001b[0;36mpandas._libs.index.IndexEngine.get_loc\u001b[0;34m()\u001b[0m\n",
      "File \u001b[0;32mpandas/_libs/index.pyx:196\u001b[0m, in \u001b[0;36mpandas._libs.index.IndexEngine.get_loc\u001b[0;34m()\u001b[0m\n",
      "File \u001b[0;32mpandas/_libs/hashtable_class_helper.pxi:7088\u001b[0m, in \u001b[0;36mpandas._libs.hashtable.PyObjectHashTable.get_item\u001b[0;34m()\u001b[0m\n",
      "File \u001b[0;32mpandas/_libs/hashtable_class_helper.pxi:7096\u001b[0m, in \u001b[0;36mpandas._libs.hashtable.PyObjectHashTable.get_item\u001b[0;34m()\u001b[0m\n",
      "\u001b[0;31mKeyError\u001b[0m: 'district_number'",
      "\nThe above exception was the direct cause of the following exception:\n",
      "\u001b[0;31mKeyError\u001b[0m                                  Traceback (most recent call last)",
      "Cell \u001b[0;32mIn[3], line 21\u001b[0m\n\u001b[1;32m     18\u001b[0m campus_df[\u001b[38;5;124m\"\u001b[39m\u001b[38;5;124mgovernance_type\u001b[39m\u001b[38;5;124m\"\u001b[39m] \u001b[38;5;241m=\u001b[39m campus_df[\u001b[38;5;124m\"\u001b[39m\u001b[38;5;124mis_charter\u001b[39m\u001b[38;5;124m\"\u001b[39m]\u001b[38;5;241m.\u001b[39mmap({\u001b[38;5;28;01mTrue\u001b[39;00m: \u001b[38;5;124m\"\u001b[39m\u001b[38;5;124mCharter\u001b[39m\u001b[38;5;124m\"\u001b[39m, \u001b[38;5;28;01mFalse\u001b[39;00m: \u001b[38;5;124m\"\u001b[39m\u001b[38;5;124mDistrict\u001b[39m\u001b[38;5;124m\"\u001b[39m})\n\u001b[1;32m     20\u001b[0m \u001b[38;5;66;03m# Optional: derive county from the six-digit district number (first three digits are the county code)\u001b[39;00m\n\u001b[0;32m---> 21\u001b[0m campus_df[\u001b[38;5;124m\"\u001b[39m\u001b[38;5;124mcounty_code\u001b[39m\u001b[38;5;124m\"\u001b[39m] \u001b[38;5;241m=\u001b[39m \u001b[43mcampus_df\u001b[49m\u001b[43m[\u001b[49m\u001b[38;5;124;43m\"\u001b[39;49m\u001b[38;5;124;43mdistrict_number\u001b[39;49m\u001b[38;5;124;43m\"\u001b[39;49m\u001b[43m]\u001b[49m\u001b[38;5;241m.\u001b[39mstr\u001b[38;5;241m.\u001b[39mreplace(\u001b[38;5;124m\"\u001b[39m\u001b[38;5;124m'\u001b[39m\u001b[38;5;124m\"\u001b[39m, \u001b[38;5;124m\"\u001b[39m\u001b[38;5;124m\"\u001b[39m, regex\u001b[38;5;241m=\u001b[39m\u001b[38;5;28;01mFalse\u001b[39;00m)\u001b[38;5;241m.\u001b[39mstr[:\u001b[38;5;241m3\u001b[39m]\n\u001b[1;32m     22\u001b[0m \u001b[38;5;66;03m# campus_df[\"county_name\"] = campus_df[\"county_code\"].map(COUNTY_CODE_TO_NAME)  # supply your TEA county lookup dict\u001b[39;00m\n\u001b[1;32m     24\u001b[0m numeric_cols \u001b[38;5;241m=\u001b[39m [\n\u001b[1;32m     25\u001b[0m     \u001b[38;5;124m\"\u001b[39m\u001b[38;5;124mpct_econ_disadv\u001b[39m\u001b[38;5;124m\"\u001b[39m, \u001b[38;5;124m\"\u001b[39m\u001b[38;5;124mpct_special_ed\u001b[39m\u001b[38;5;124m\"\u001b[39m, \u001b[38;5;124m\"\u001b[39m\u001b[38;5;124mpct_attrition\u001b[39m\u001b[38;5;124m\"\u001b[39m, \u001b[38;5;124m\"\u001b[39m\u001b[38;5;124mpct_mobility\u001b[39m\u001b[38;5;124m\"\u001b[39m,\n\u001b[1;32m     26\u001b[0m     \u001b[38;5;124m\"\u001b[39m\u001b[38;5;124mpct_at_risk\u001b[39m\u001b[38;5;124m\"\u001b[39m, \u001b[38;5;124m\"\u001b[39m\u001b[38;5;124mpct_emergent_bilingual\u001b[39m\u001b[38;5;124m\"\u001b[39m, \u001b[38;5;124m\"\u001b[39m\u001b[38;5;124mpct_beginning_teachers\u001b[39m\u001b[38;5;124m\"\u001b[39m\n\u001b[1;32m     27\u001b[0m ]\n",
      "File \u001b[0;32m/Library/Frameworks/Python.framework/Versions/3.12/lib/python3.12/site-packages/pandas/core/frame.py:4113\u001b[0m, in \u001b[0;36mDataFrame.__getitem__\u001b[0;34m(self, key)\u001b[0m\n\u001b[1;32m   4111\u001b[0m \u001b[38;5;28;01mif\u001b[39;00m \u001b[38;5;28mself\u001b[39m\u001b[38;5;241m.\u001b[39mcolumns\u001b[38;5;241m.\u001b[39mnlevels \u001b[38;5;241m>\u001b[39m \u001b[38;5;241m1\u001b[39m:\n\u001b[1;32m   4112\u001b[0m     \u001b[38;5;28;01mreturn\u001b[39;00m \u001b[38;5;28mself\u001b[39m\u001b[38;5;241m.\u001b[39m_getitem_multilevel(key)\n\u001b[0;32m-> 4113\u001b[0m indexer \u001b[38;5;241m=\u001b[39m \u001b[38;5;28;43mself\u001b[39;49m\u001b[38;5;241;43m.\u001b[39;49m\u001b[43mcolumns\u001b[49m\u001b[38;5;241;43m.\u001b[39;49m\u001b[43mget_loc\u001b[49m\u001b[43m(\u001b[49m\u001b[43mkey\u001b[49m\u001b[43m)\u001b[49m\n\u001b[1;32m   4114\u001b[0m \u001b[38;5;28;01mif\u001b[39;00m is_integer(indexer):\n\u001b[1;32m   4115\u001b[0m     indexer \u001b[38;5;241m=\u001b[39m [indexer]\n",
      "File \u001b[0;32m/Library/Frameworks/Python.framework/Versions/3.12/lib/python3.12/site-packages/pandas/core/indexes/base.py:3819\u001b[0m, in \u001b[0;36mIndex.get_loc\u001b[0;34m(self, key)\u001b[0m\n\u001b[1;32m   3814\u001b[0m     \u001b[38;5;28;01mif\u001b[39;00m \u001b[38;5;28misinstance\u001b[39m(casted_key, \u001b[38;5;28mslice\u001b[39m) \u001b[38;5;129;01mor\u001b[39;00m (\n\u001b[1;32m   3815\u001b[0m         \u001b[38;5;28misinstance\u001b[39m(casted_key, abc\u001b[38;5;241m.\u001b[39mIterable)\n\u001b[1;32m   3816\u001b[0m         \u001b[38;5;129;01mand\u001b[39;00m \u001b[38;5;28many\u001b[39m(\u001b[38;5;28misinstance\u001b[39m(x, \u001b[38;5;28mslice\u001b[39m) \u001b[38;5;28;01mfor\u001b[39;00m x \u001b[38;5;129;01min\u001b[39;00m casted_key)\n\u001b[1;32m   3817\u001b[0m     ):\n\u001b[1;32m   3818\u001b[0m         \u001b[38;5;28;01mraise\u001b[39;00m InvalidIndexError(key)\n\u001b[0;32m-> 3819\u001b[0m     \u001b[38;5;28;01mraise\u001b[39;00m \u001b[38;5;167;01mKeyError\u001b[39;00m(key) \u001b[38;5;28;01mfrom\u001b[39;00m \u001b[38;5;21;01merr\u001b[39;00m\n\u001b[1;32m   3820\u001b[0m \u001b[38;5;28;01mexcept\u001b[39;00m \u001b[38;5;167;01mTypeError\u001b[39;00m:\n\u001b[1;32m   3821\u001b[0m     \u001b[38;5;66;03m# If we have a listlike key, _check_indexing_error will raise\u001b[39;00m\n\u001b[1;32m   3822\u001b[0m     \u001b[38;5;66;03m#  InvalidIndexError. Otherwise we fall through and re-raise\u001b[39;00m\n\u001b[1;32m   3823\u001b[0m     \u001b[38;5;66;03m#  the TypeError.\u001b[39;00m\n\u001b[1;32m   3824\u001b[0m     \u001b[38;5;28mself\u001b[39m\u001b[38;5;241m.\u001b[39m_check_indexing_error(key)\n",
      "\u001b[0;31mKeyError\u001b[0m: 'district_number'"
     ]
    }
   ],
   "source": [
    "# Friendly renames for reporting\n",
    "campus_df = campus_df.rename(columns={\n",
    "    \"name\": \"campus_name\",\n",
    "    \"campus_number\": \"campus_number\",\n",
    "    \"overall_rating_2025\": \"overall_rating_2025\",\n",
    "    \"grade_range\": \"grade_levels_served\",\n",
    "    \"school_type\": \"school_type\",\n",
    "    \"campus_2024_student_enrollment_econ_disadv_percent\": \"pct_econ_disadv\",\n",
    "    \"campus_2024_student_enrollment_special_ed_percent\": \"pct_special_ed\",\n",
    "    \"campus_2024_student_membership_2022_23_attrition_all_students_percent\": \"pct_attrition\",\n",
    "    \"campus_2024_student_membership_2023_mobility_all_students_percent\": \"pct_mobility\",\n",
    "    \"campus_2024_student_enrollment_at_risk_percent\": \"pct_at_risk\",\n",
    "    \"campus_2024_student_enrollment_el_percent\": \"pct_emergent_bilingual\",\n",
    "    \"campus_2024_staff_teacher_beginning_full_time_equiv_percent\": \"pct_beginning_teachers\",\n",
    "})\n",
    "\n",
    "# Derive district/charter label\n",
    "campus_df[\"governance_type\"] = campus_df[\"is_charter\"].map({True: \"Charter\", False: \"District\"})\n",
    "\n",
    "# Optional: derive county from the six-digit district number (first three digits are the county code)\n",
    "campus_df[\"county_code\"] = campus_df[\"district_number\"].str.replace(\"'\", \"\", regex=False).str[:3]\n",
    "# campus_df[\"county_name\"] = campus_df[\"county_code\"].map(COUNTY_CODE_TO_NAME)  # supply your TEA county lookup dict\n",
    "\n",
    "numeric_cols = [\n",
    "    \"pct_econ_disadv\", \"pct_special_ed\", \"pct_attrition\", \"pct_mobility\",\n",
    "    \"pct_at_risk\", \"pct_emergent_bilingual\", \"pct_beginning_teachers\"\n",
    "]\n",
    "campus_df[numeric_cols] = campus_df[numeric_cols].apply(pd.to_numeric, errors=\"coerce\")\n"
   ]
  },
  {
   "cell_type": "code",
   "execution_count": null,
   "id": "d7b525e2-4e22-4b93-825a-abe4e342a0c6",
   "metadata": {},
   "outputs": [],
   "source": [
    "base_columns = [\n",
    "    \"campus_number\", \"campus_name\", \"district_name\", \"county_code\",\n",
    "    \"governance_type\", \"grade_levels_served\", \"school_type\",\n",
    "    \"overall_rating_2025\", \"pct_econ_disadv\", \"pct_special_ed\", \"pct_attrition\",\n",
    "    \"pct_mobility\", \"pct_at_risk\", \"pct_emergent_bilingual\",\n",
    "    \"pct_beginning_teachers\"\n",
    "]\n",
    "\n",
    "district_campuses = campus_df.loc[campus_df[\"governance_type\"] == \"District\", base_columns].copy()\n",
    "charter_campuses = campus_df.loc[campus_df[\"governance_type\"] == \"Charter\", base_columns].copy()\n"
   ]
  },
  {
   "cell_type": "code",
   "execution_count": null,
   "id": "599b3455-21be-4813-b276-86490f8b5c7e",
   "metadata": {},
   "outputs": [],
   "source": [
    "district_campuses.to_excel(\"campus_stats_district.xlsx\", index=False)\n",
    "charter_campuses.to_excel(\"campus_stats_charter.xlsx\", index=False)\n",
    "\n",
    "# or preview in notebook\n",
    "district_campuses.head()\n",
    "charter_campuses.head()\n"
   ]
  }
 ],
 "metadata": {
  "kernelspec": {
   "display_name": "Python 3 (ipykernel)",
   "language": "python",
   "name": "python3"
  },
  "language_info": {
   "codemirror_mode": {
    "name": "ipython",
    "version": 3
   },
   "file_extension": ".py",
   "mimetype": "text/x-python",
   "name": "python",
   "nbconvert_exporter": "python",
   "pygments_lexer": "ipython3",
   "version": "3.12.4"
  }
 },
 "nbformat": 4,
 "nbformat_minor": 5
}
